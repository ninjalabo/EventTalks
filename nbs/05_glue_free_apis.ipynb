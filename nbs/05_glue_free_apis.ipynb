{
 "cells": [
  {
   "cell_type": "code",
   "execution_count": null,
   "id": "initial_id",
   "metadata": {},
   "outputs": [],
   "source": [
    "#| default_exp weather_openapi\n",
    "\"\"\"\n",
    "Auto‑generate MCP tools for Open‑Meteo (glue‑free).\n",
    "\n",
    "* Downloads the canonical OpenAPI 3.0 file published by Open‑Meteo.\n",
    "* Builds a FastMCP sub‑server from the spec.\n",
    "* Mounts that sub‑server into our main `MCP` so the LLM can call\n",
    "  any endpoint under `/v1/forecast`, `/v1/marine`, `/v1/air-quality`, etc.\n",
    "\"\"\"\n",
    "from __future__ import annotations\n",
    "\n",
    "import asyncio\n",
    "from typing import Any\n",
    "\n",
    "import httpx, yaml\n",
    "from fastmcp import FastMCP  # FastMCP ≥ 2.0\n",
    "\n",
    "\n",
    "\n",
    "# -----------------------------------------------------------------------------\n",
    "# Open‑Meteo OpenAPI spec\n",
    "# -----------------------------------------------------------------------------\n",
    "SPEC_URL = (\n",
    "    \"https://raw.githubusercontent.com/open-meteo/\"\n",
    "    \"open-meteo/main/openapi.yml\"\n",
    ")\n",
    "\n",
    "# -----------------------------------------------------------------------------\n",
    "# Helpers\n",
    "# -----------------------------------------------------------------------------\n",
    "async def _load_openapi_spec(url: str) -> dict[str, Any]:\n",
    "    \"\"\"Download and parse the YAML OpenAPI file once at startup.\"\"\"\n",
    "    async with httpx.AsyncClient(timeout=10) as cx:\n",
    "        res = await cx.get(url)\n",
    "    res.raise_for_status()\n",
    "    return yaml.safe_load(res.text)\n",
    "\n",
    "\n",
    "async def mount_open_meteo(mcp: FastMCP) -> None:\n",
    "    \"\"\"Load the Open‑Meteo spec ➜ generate a FastMCP sub‑server ➜ mount it.\"\"\"\n",
    "    spec = await _load_openapi_spec(SPEC_URL)\n",
    "\n",
    "    # The spec already contains the upstream base URL; FastMCP still wants a client.\n",
    "    client = httpx.AsyncClient(base_url=\"https://api.open-meteo.com\")\n",
    "\n",
    "    weather_srv = FastMCP.from_openapi(\n",
    "        openapi_spec=spec,\n",
    "        client=client,\n",
    "        name=\"open-meteo\",\n",
    "    )\n",
    "\n",
    "    \n",
    "    mcp.mount(weather_srv)\n",
    "\n",
    "\n"
   ]
  },
  {
   "cell_type": "code",
   "execution_count": null,
   "id": "60db15a554e00a62",
   "metadata": {},
   "outputs": [],
   "source": []
  },
  {
   "cell_type": "code",
   "execution_count": null,
   "id": "ae72a2f568ff730",
   "metadata": {},
   "outputs": [],
   "source": []
  },
  {
   "cell_type": "code",
   "execution_count": null,
   "id": "5e44d567acb3cb28",
   "metadata": {},
   "outputs": [],
   "source": []
  },
  {
   "cell_type": "code",
   "execution_count": null,
   "id": "f3b30a4f6a6849bc",
   "metadata": {},
   "outputs": [],
   "source": []
  },
  {
   "cell_type": "code",
   "id": "d6605d19b15d4487",
   "metadata": {},
   "outputs": [],
   "source": []
  }
 ],
 "metadata": {
  "kernelspec": {
   "display_name": "python3",
   "language": "python",
   "name": "python3"
  }
 },
 "nbformat": 4,
 "nbformat_minor": 5
}
