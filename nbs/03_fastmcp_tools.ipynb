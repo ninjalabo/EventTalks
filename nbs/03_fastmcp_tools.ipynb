{
 "cells": [
  {
   "cell_type": "code",
   "execution_count": 9,
   "id": "368acf8e4b7a7883",
   "metadata": {
    "ExecuteTime": {
     "end_time": "2025-05-20T17:03:03.756543Z",
     "start_time": "2025-05-20T17:03:03.745931Z"
    }
   },
   "outputs": [],
   "source": [
    "#|default_exp fastmcp_tools"
   ]
  },
  {
   "cell_type": "code",
   "execution_count": 10,
   "id": "deeb94774f9365da",
   "metadata": {
    "ExecuteTime": {
     "end_time": "2025-05-20T17:03:03.819465Z",
     "start_time": "2025-05-20T17:03:03.779775Z"
    }
   },
   "outputs": [],
   "source": [
    "#|export\n",
    "\"\"\"\n",
    "FastMCP tool-server for *Arena Buddy*\n",
    "-------------------------------------\n",
    "\n",
    "* Exposes every mobility / parking / weather helper as an **MCP tool**\n",
    "* Runs over **Server-Sent Events** (SSE) – identical pattern to *ONE.py*\n",
    "\"\"\"\n",
    "\n",
    "from __future__ import annotations\n",
    "import asyncio, datetime as dt\n",
    "from pathlib import Path\n",
    "\n",
    "# ── FastMCP server --------------------------------------------------------\n",
    "from mcp.server.fastmcp import FastMCP\n",
    "\n",
    "# ── Re-use helpers from the DataTalks library ----------------------------\n",
    "from DataTalks.api   import geocode, osrm_car, ors_bike, osrm_walk, digitransit_pt\n",
    "from DataTalks.arena import (\n",
    "    AREENA,\n",
    "    nearest_parking_ids,\n",
    "    parking_status,\n",
    ")\n",
    "\n",
    "# ── very tiny weather helper (open-met Norway meteogram) ------------------\n",
    "import httpx\n",
    "async def weather_now(place: str = \"Espoo,FI\") -> dict:\n",
    "    url = f\"https://api.met.no/weatherapi/locationforecast/2.0/compact?lat={AREENA[0]}&lon={AREENA[1]}\"\n",
    "    async with httpx.AsyncClient(timeout=10, headers={\"User-Agent\": \"arena-buddy\"}) as cx:\n",
    "        js = (await cx.get(url)).json()\n",
    "    now = js[\"properties\"][\"timeseries\"][0]\n",
    "    temp = now[\"data\"][\"instant\"][\"details\"][\"air_temperature\"]\n",
    "    precip = now[\"data\"].get(\"next_1_hours\", {}).get(\"details\", {}).get(\"precipitation_amount\", 0)\n",
    "    return {\"temp_C\": temp, \"precip_mm\": precip, \"timestamp\": now[\"time\"]}\n",
    "\n",
    "# ── Instantiate the server -----------------------------------------------\n",
    "MCP = FastMCP(\"arena-tools\", port=9001)\n",
    "\n",
    "# ── ROUTE tools -----------------------------------------------------------\n",
    "@MCP.tool()\n",
    "async def route_walk(origin: str):\n",
    "    \"Walking Route from `origin` to Metro Areena (returns Route pydantic model).\"\n",
    "    src = await geocode(origin)\n",
    "    return await osrm_walk(src, AREENA)\n",
    "\n",
    "@MCP.tool()\n",
    "async def route_bike(origin: str):\n",
    "    \"Cycling Route from `origin` to Metro Areena.\"\n",
    "    src = await geocode(origin)\n",
    "    return await ors_bike(src, AREENA)\n",
    "\n",
    "@MCP.tool()\n",
    "async def route_pt(origin: str):\n",
    "    \"Fastest public-transport itinerary from `origin` to Metro Areena.\"\n",
    "    src = await geocode(origin)\n",
    "    return await digitransit_pt(src, AREENA)\n",
    "\n",
    "@MCP.tool()\n",
    "async def route_car(origin: str):\n",
    "    \"Driving Route from `origin` to Metro Areena (fallback).\"\n",
    "    src = await geocode(origin)\n",
    "    return await osrm_car(src, AREENA)\n",
    "\n",
    "# ── PARKING tools ---------------------------------------------------------\n",
    "@MCP.tool()\n",
    "async def parking_live():\n",
    "    \"Current free / total CAR slots at the nearest P+R to Metro Areena.\"\n",
    "    fid = (await nearest_parking_ids(*AREENA))[\"CAR\"]\n",
    "    return await parking_status(fid)\n",
    "\n",
    "# ── WEATHER tool ----------------------------------------------------------\n",
    "@MCP.tool()\n",
    "async def arena_weather():\n",
    "    \"Current temperature °C and 1-h precipitation forecast at Metro Areena.\"\n",
    "    return await weather_now()\n",
    "\n",
    "\n",
    "#if __name__ == \"__main__\":\n",
    "#    print(\"⚡ Arena-Buddy MCP tool-server running on http://0.0.0.0:9001/sse\")\n",
    "#    MCP.run(transport=\"sse\")        # ← no host=\n",
    "\n"
   ]
  },
  {
   "cell_type": "code",
   "outputs": [],
   "source": [
    "__all__ = [\"MCP\",\n",
    "           \"route_walk\", \"route_bike\", \"route_pt\", \"route_car\",\n",
    "           \"parking_live\", \"arena_weather\"]"
   ],
   "metadata": {
    "collapsed": false,
    "ExecuteTime": {
     "end_time": "2025-05-20T17:03:03.835572Z",
     "start_time": "2025-05-20T17:03:03.822321Z"
    }
   },
   "id": "2d9735c700a65f3b",
   "execution_count": 11
  }
 ],
 "metadata": {
  "kernelspec": {
   "display_name": "python3",
   "language": "python",
   "name": "python3"
  }
 },
 "nbformat": 4,
 "nbformat_minor": 5
}
