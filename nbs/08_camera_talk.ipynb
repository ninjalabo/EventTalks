{
 "cells": [
  {
   "cell_type": "code",
   "execution_count": null,
   "id": "initial_id",
   "metadata": {},
   "outputs": [],
   "source": [
    "#| default_exp camera_talk\n",
    "#| test: false"
   ]
  },
  {
   "cell_type": "code",
   "id": "3d10306250afc2a2",
   "metadata": {},
   "outputs": [],
   "source": [
    "import asyncio\n",
    "#from DataTalks.arena_agent import parking_camera_loop\n",
    "from agents import AgentHooks\n",
    "from DataTalks.fastmcp_tools import app\n",
    "import datetime\n",
    "import random\n",
    "from DataTalks.arena_agent import parking_q, _sse \n",
    "import logging\n"
   ]
  },
  {
   "cell_type": "code",
   "id": "b98f967ad047464d",
   "metadata": {},
   "outputs": [],
   "source": [
    "#| export\n",
    "#| eval: false\n",
    "\n",
    "@app.on_event(\"startup\")\n",
    "async def start_parking_worker():\n",
    "    try:\n",
    "        asyncio.create_task(parking_camera_loop(), name=\"parking-camera-loop\") \n",
    "        logging.info(\"✅ Camera talks...\")\n",
    "    except Exception as exc:\n",
    "        logging.error(\"❌ Could not run Camera Talks\")  \n",
    "        \n"
   ]
  },
  {
   "cell_type": "code",
   "id": "4b68b8f2ec4c27dd",
   "metadata": {},
   "outputs": [],
   "source": [
    "#| export\n",
    "#| eval: false\n",
    "\n",
    "\n",
    "async def parking_camera_loop():\n",
    "    \"\"\"\n",
    "    Periodically simulates new free-slot counts from a camera\n",
    "    and pushes them into the parking_q as SSE blocks.\n",
    "    \"\"\"\n",
    "    while True:\n",
    "        free_slots_number = random.randint(0, 120)\n",
    "        stamp = datetime.datetime.now().strftime(\"%H:%M:%S\")\n",
    "\n",
    "        # Make the text look like an assistant bubble\n",
    "        # (e.g., \"role: assistant\" or just user-facing text)\n",
    "        message_html = f\"\"\"\n",
    "        <div class=\"chat chat-start\">\n",
    "          <div class=\"chat-header text-xs text-gray-500\">assistant</div>\n",
    "          <div class=\"chat-bubble bg-sky-700 text-white\">\n",
    "            Camera says: {free_slots_number} free slots now (at {stamp})!\n",
    "          </div>\n",
    "        </div>\n",
    "        \"\"\"\n",
    "        # Put an SSE 'message' event into the queue\n",
    "        sse_message = _sse(\"message\", message_html)\n",
    "        parking_q.put_nowait(sse_message)\n",
    "\n",
    "        await asyncio.sleep(60)  "
   ]
  },
  {
   "cell_type": "code",
   "id": "3c0cd92ae65c116e",
   "metadata": {},
   "outputs": [],
   "source": [
    "#| hide\n",
    "#| eval: false\n"
   ]
  }
 ],
 "metadata": {
  "kernelspec": {
   "display_name": "python3",
   "language": "python",
   "name": "python3"
  }
 },
 "nbformat": 4,
 "nbformat_minor": 5
}
