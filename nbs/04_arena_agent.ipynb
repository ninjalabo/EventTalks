{
 "cells": [
  {
   "cell_type": "code",
   "execution_count": null,
   "id": "36ce5d6a771d4381",
   "metadata": {},
   "outputs": [
    {
     "data": {
      "text/plain": "'\\nArena-Buddy web chat + LLM agent (nbdev-ready)\\n============================================\\nLive chat UI (FastHTML + HTMX + Tailwind/daisyUI) that streams responses from an “Arena Buddy” LLM agent.\\n\\n**Changelog vs. original**\\n\\n* FastHTML attribute bug fixed (`hx-swap-oob`).\\n* Assistant HTML no longer double-escaped.\\n* Proper SSE via `EventSourceResponse` (sse-starlette).\\n* Race-safety (`asyncio.Lock`).\\n* Backslash-in-f-string SyntaxError removed.\\n* Structured into **small cells** for easier debugging in a notebook.\\n'"
     },
     "execution_count": null,
     "metadata": {},
     "output_type": "execute_result"
    }
   ],
   "source": [
    "#|default_exp arena_agent\n",
    "\"\"\"\n",
    "Arena-Buddy web chat + LLM agent (nbdev-ready)\n",
    "============================================\n",
    "Live chat UI (FastHTML + HTMX + Tailwind/daisyUI) that streams responses from an “Arena Buddy” LLM agent.\n",
    "\n",
    "**Changelog vs. original**\n",
    "\n",
    "* FastHTML attribute bug fixed (`hx-swap-oob`).\n",
    "* Assistant HTML no longer double-escaped.\n",
    "* Proper SSE via `EventSourceResponse` (sse-starlette).\n",
    "* Race-safety (`asyncio.Lock`).\n",
    "* Backslash-in-f-string SyntaxError removed.\n",
    "* Structured into **small cells** for easier debugging in a notebook.\n",
    "\"\"\"\n"
   ]
  },
  {
   "cell_type": "code",
   "execution_count": null,
   "id": "a7acfcbf3890c79e",
   "metadata": {},
   "outputs": [],
   "source": [
    "#|export\n",
    "from __future__ import annotations\n",
    "import os, asyncio, html\n",
    "from typing import AsyncIterator, List, Dict"
   ]
  },
  {
   "cell_type": "code",
   "execution_count": null,
   "id": "d9caeac203aa4158",
   "metadata": {},
   "outputs": [],
   "source": [
    "#|export\n",
    "# ── FastHTML / HTMX scaffold ───────────────────────────────────────────────\n",
    "from fasthtml import FastHTML\n",
    "from fasthtml.common import Div, Form, Input, Button, H1\n",
    "from starlette.requests import Request\n",
    "from sse_starlette.sse import EventSourceResponse  # proper SSE helper\n"
   ]
  },
  {
   "cell_type": "code",
   "execution_count": null,
   "id": "8107be91bec7a3f4",
   "metadata": {},
   "outputs": [],
   "source": [
    "#|export\n",
    "from agents import Agent, Runner\n",
    "from agents.mcp import MCPServerSse"
   ]
  },
  {
   "cell_type": "code",
   "execution_count": null,
   "id": "cdcf866511418430",
   "metadata": {},
   "outputs": [],
   "source": [
    "#|export\n",
    "# ── FastHTML app ───────────────────────────────────────────────────────────\n",
    "app = FastHTML(\n",
    "    hdrs=(\n",
    "        '<script src=\"https://cdn.tailwindcss.com\"></script>',\n",
    "        '<script src=\"https://cdn.jsdelivr.net/npm/daisyui@4/dist/full.min.js\"></script>',\n",
    "        '<script src=\"https://unpkg.com/htmx-ext-sse@2.2.3/dist/sse.js\"></script>',\n",
    "    ),\n",
    "    live=True,\n",
    ")"
   ]
  },
  {
   "cell_type": "code",
   "execution_count": null,
   "id": "c12f98ecb3e3878b",
   "metadata": {},
   "outputs": [],
   "source": [
    "#|export\n",
    "# ── in‑memory chat log & lock ──────────────────────────────────────────────\n",
    "MSG: List[Dict[str, str]] = []\n",
    "MSG_LOCK = asyncio.Lock()"
   ]
  },
  {
   "cell_type": "code",
   "execution_count": null,
   "id": "17684f7d5eff09dd",
   "metadata": {},
   "outputs": [],
   "source": [
    "#|export\n",
    "# ── UI helper: chat bubble ─────────────────────────────────────────────────\n",
    "\n",
    "def _chat_bubble(idx: int, **hx):\n",
    "    \"\"\"Return one chat bubble (`Div`).\"\"\"\n",
    "    who, txt = MSG[idx][\"role\"], MSG[idx][\"content\"] or \"…\"\n",
    "    side   = \"chat-end\"  if who == \"user\"      else \"chat-start\"\n",
    "    bubble = \"bg-sky-700 text-white\" if who == \"assistant\" else \"bg-gray-200\"\n",
    "    return Div(\n",
    "        Div(who, cls=\"chat-header text-xs text-gray-500\"),\n",
    "        Div(txt if who == \"user\" else html.unescape(txt),\n",
    "            cls=f\"chat-bubble {bubble}\", **hx),\n",
    "        cls=f\"chat {side}\", id=f\"m{idx}\",\n",
    "    )"
   ]
  },
  {
   "cell_type": "code",
   "execution_count": null,
   "id": "736e2f375614d9a8",
   "metadata": {},
   "outputs": [],
   "source": [
    "#|export\n",
    "# ── UI helper: text input ──────────────────────────────────────────────────\n",
    "\n",
    "def _chat_input():\n",
    "    \"\"\"Return the text input element (FastHTML ≥ 0.3.1 supports `hx_swap_oob`).\"\"\"\n",
    "    return Input(\n",
    "        id=\"msgin\", name=\"msg\", type=\"text\", autocomplete=\"off\",\n",
    "        placeholder=\"Type your question…\",\n",
    "        cls=\"input input-bordered w-full\",\n",
    "        hx_swap_oob=\"true\",  # FastHTML fork already fixes the colon bug\n",
    "        onkeyup=\"event.key==='Enter' && this.form.requestSubmit()\",\n",
    "    )"
   ]
  },
  {
   "cell_type": "code",
   "execution_count": null,
   "id": "a1c04d32bf31b98a",
   "metadata": {},
   "outputs": [],
   "source": [
    "#|export\n",
    "# ── Route: home page ───────────────────────────────────────────────────────\n",
    "\n",
    "@app.route(\"/\")\n",
    "async def home():\n",
    "    \"\"\"Root page (GET) – delivers the chat UI shell.\"\"\"\n",
    "    return Div(\n",
    "        H1(\"Arena Buddy\", cls=\"text-3xl font-bold mb-4\"),\n",
    "        Div(id=\"chatlog\",\n",
    "            cls=\"space-y-3 mb-4 h-[70vh] overflow-y-auto bg-base-200 p-4 rounded-box\"),\n",
    "        Form(\n",
    "            Div(_chat_input(),\n",
    "                Button(\"Send ✈\", cls=\"btn btn-primary ml-2\"),\n",
    "                cls=\"flex\"),\n",
    "            hx_post=\"/send\", hx_target=\"#chatlog\", hx_swap=\"beforeend\",\n",
    "        ),\n",
    "        cls=\"max-w-2xl mx-auto p-6\",\n",
    "    )"
   ]
  },
  {
   "cell_type": "code",
   "execution_count": null,
   "id": "b95efcb5014984f7",
   "metadata": {},
   "outputs": [],
   "source": [
    "# ── LLM helper ─────────────────────────────────────────────────────────────\n",
    "\n",
    "async def _assistant_html(prompt: str) -> str:\n",
    "    \"\"\"Run the LLM agent and return **raw HTML** (no escaping).\"\"\"\n",
    "    async with MCPServerSse(name=\"ui\", params={\"url\": MCP_URL}) as srv:\n",
    "        agent = Agent(\n",
    "            \"assistant\",\n",
    "            instructions=(\n",
    "                \"You are Arena Buddy: convince the human to reach Metro Areena Espoo \"\n",
    "                \"with the lowest‑emission mode possible (walk 🚶, bike 🚴, public \"\n",
    "                \"transport 🚇, car 🚗 as last resort). Retrieve live routes, parking \"\n",
    "                \"status and weather via MCP tools and reply in short friendly \"\n",
    "                \"paragraphs.\"\n",
    "            ),\n",
    "            mcp_servers=[srv],\n",
    "            tool_choice=\"required\",\n",
    "        )\n",
    "        result = await Runner.run(starting_agent=agent, input=prompt)\n",
    "        return result.final_output"
   ]
  },
  {
   "cell_type": "code",
   "execution_count": null,
   "id": "fe1cedd9ac8eda73",
   "metadata": {},
   "outputs": [],
   "source": [
    "#|export\n",
    "# ── Endpoint: /send ────────────────────────────────────────────────────────\n",
    "\n",
    "@app.post(\"/send\")\n",
    "async def _send(request: Request):\n",
    "    \"\"\"Handle user message; return immediate DOM diff (user bubble + empty assistant).\"\"\"\n",
    "    form = await request.form()\n",
    "    prompt = str(form.get(\"msg\", \"\")).strip()\n",
    "    if not prompt:\n",
    "        return \"\"  # HTMX: empty response → do nothing\n",
    "\n",
    "    async with MSG_LOCK:\n",
    "        MSG.append({\"role\": \"user\", \"content\": html.escape(prompt)})\n",
    "        MSG.append({\"role\": \"assistant\", \"content\": \"\"})\n",
    "        user_idx, asst_idx = len(MSG) - 2, len(MSG) - 1\n",
    "\n",
    "    user_html = _chat_bubble(user_idx).__html__()\n",
    "    asst_html = _chat_bubble(\n",
    "        asst_idx,\n",
    "        hx_ext=\"sse\",\n",
    "        sse_connect=f\"/stream/{asst_idx}\",\n",
    "        sse_swap=\"message\",\n",
    "        sse_close=\"close\",\n",
    "        hx_swap=\"innerHTML\",\n",
    "    ).__html__()\n",
    "\n",
    "    return user_html + asst_html + _chat_input().__html__()"
   ]
  },
  {
   "cell_type": "code",
   "execution_count": null,
   "id": "75056b9b832d6845",
   "metadata": {},
   "outputs": [],
   "source": [
    "#|export\n",
    "# ── Endpoint: /stream/{idx} ────────────────────────────────────────────────\n",
    "\n",
    "@app.get(\"/stream/{idx}\")\n",
    "async def _stream(idx: int):\n",
    "    \"\"\"SSE endpoint that streams the assistant reply and then closes.\"\"\"\n",
    "    async def gen() -> AsyncIterator[str]:\n",
    "        async with MSG_LOCK:\n",
    "            prompt_html = MSG[idx - 1][\"content\"]\n",
    "\n",
    "        reply_html = await _assistant_html(prompt_html)\n",
    "        cleaned = reply_html.replace(\"\\n\", \" \")  # pre‑clean to dodge f‑string backslash rule\n",
    "\n",
    "        async with MSG_LOCK:\n",
    "            MSG[idx][\"content\"] = reply_html\n",
    "\n",
    "        yield f\"event: message\\ndata: {cleaned}\\n\\n\"\n",
    "        yield \"event: close\\ndata:\\n\\n\"\n",
    "\n",
    "    return EventSourceResponse(gen())"
   ]
  },
  {
   "cell_type": "code",
   "execution_count": null,
   "id": "e1e83f5e4760553d",
   "metadata": {},
   "outputs": [],
   "source": [
    "\n",
    "# %% [markdown]\n",
    "# **Optional:** run a local dev server.\n",
    "# ```python\n",
    "# if __name__ == \"__main__\":\n",
    "#     import uvicorn, logging\n",
    "#     logging.basicConfig(level=\"INFO\")\n",
    "#     uvicorn.run(app, host=\"0.0.0.0\", port=8000)\n",
    "# ```"
   ]
  }
 ],
 "metadata": {
  "kernelspec": {
   "display_name": "python3",
   "language": "python",
   "name": "python3"
  }
 },
 "nbformat": 4,
 "nbformat_minor": 5
}
